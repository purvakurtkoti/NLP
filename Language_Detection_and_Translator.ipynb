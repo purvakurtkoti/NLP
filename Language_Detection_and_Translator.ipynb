{
  "cells": [
    {
      "cell_type": "code",
      "execution_count": null,
      "metadata": {
        "id": "XyYw1CMabtrX"
      },
      "outputs": [],
      "source": [
        "                    from google.colab import drive\n",
        "drive.mount('/content/drive')"
      ]
    },
    {
      "cell_type": "code",
      "execution_count": null,
      "metadata": {
        "id": "8Di97cW0f_gJ"
      },
      "outputs": [],
      "source": [
        "import pandas as pd\n",
        "import numpy as np\n",
        "import re\n",
        "import seaborn as sns\n",
        "import matplotlib.pyplot as plt"
      ]
    },
    {
      "cell_type": "code",
      "execution_count": null,
      "metadata": {
        "id": "LLFpX0M4gZvt"
      },
      "outputs": [],
      "source": [
        "data = pd.read_csv(\"/content/drive/MyDrive/Aegis - NLP/Portfolio Project NLP/Untitled folder/Language Detection.csv\")\n",
        "print(data.head(10))"
      ]
    },
    {
      "cell_type": "code",
      "execution_count": null,
      "metadata": {
        "id": "YfzHjb-IgZtW"
      },
      "outputs": [],
      "source": [
        "data[\"Language\"].value_counts()\n"
      ]
    },
    {
      "cell_type": "code",
      "execution_count": null,
      "metadata": {
        "id": "LqlYMyNNl3EY"
      },
      "outputs": [],
      "source": [
        "df= data['Language'].value_counts().reset_index()\n",
        "df.head(5)"
      ]
    },
    {
      "cell_type": "code",
      "execution_count": null,
      "metadata": {
        "id": "CnxQV0j3gZjY"
      },
      "outputs": [],
      "source": [
        "def clean_function(Text):\n",
        "\n",
        "    Text = re.sub(r'[\\([{})\\]!@#$,\"%^*?:;~`0-9]', ' ', Text) # remove symbols and numbers\n",
        "    \n",
        "    Text = Text.lower()\n",
        "    Text = re.sub('http\\S+\\s*', ' ', Text)  # remove URLs\n",
        "    Text = re.sub('#\\S+', '', Text)  # remove hashtags\n",
        "    Text = re.sub('@\\S+', '  ', Text)  # remove mentions\n",
        "    Text = re.sub('\\s+', ' ', Text)  # remove extra whitespace\n",
        "    \n",
        "    return Text"
      ]
    },
    {
      "cell_type": "code",
      "execution_count": null,
      "metadata": {
        "id": "ELzEF7h8mByl"
      },
      "outputs": [],
      "source": [
        "plt.figure(figsize=(10,10))\n",
        "labels= df['index']\n",
        "plt.pie(df[\"Language\"], labels= labels, autopct='%.1f%%')\n",
        "plt.show()"
      ]
    },
    {
      "cell_type": "code",
      "execution_count": null,
      "metadata": {
        "id": "e9Jdkp_ImIQq"
      },
      "outputs": [],
      "source": [
        "def clean_function(Text):\n",
        "    \n",
        "    Text = re.sub(r'[\\([{})\\]!@#$,\"%^*?:;~`0-9]', ' ', Text)  # remove the symbols and numbers\n",
        "    Text = Text.lower()\n",
        "    Text = re.sub('http\\S+\\s*', ' ', Text)  # remove URLs\n",
        "    Text = re.sub('#\\S+', '', Text)  # remove #\n",
        "    Text = re.sub('@\\S+', '  ', Text)  # remove @\n",
        "    Text = re.sub('\\s+', ' ', Text)  # remove extra whitespace\n",
        "    \n",
        "    return Text"
      ]
    },
    {
      "cell_type": "code",
      "execution_count": null,
      "metadata": {
        "id": "nKHNkaQGmINy"
      },
      "outputs": [],
      "source": [
        "data['cleaned_Text'] = data['Text'].apply(lambda x: clean_function(x))\n"
      ]
    },
    {
      "cell_type": "code",
      "execution_count": null,
      "metadata": {
        "id": "hUXAPZvbmIKY"
      },
      "outputs": [],
      "source": [
        "data.head(5)"
      ]
    },
    {
      "cell_type": "code",
      "execution_count": null,
      "metadata": {
        "id": "w1_b4F2ygZqa"
      },
      "outputs": [],
      "source": [
        "X = data[\"cleaned_Text\"]\n",
        "y = data[\"Language\"]"
      ]
    },
    {
      "cell_type": "markdown",
      "metadata": {
        "id": "OA6F--jHhIYt"
      },
      "source": [
        "### LabelEncoder"
      ]
    },
    {
      "cell_type": "code",
      "execution_count": null,
      "metadata": {
        "id": "W29_PYJ4gZn3"
      },
      "outputs": [],
      "source": [
        "from sklearn.preprocessing import LabelEncoder\n",
        "\n",
        "le = LabelEncoder()\n",
        "\n",
        "y = le.fit_transform(y)"
      ]
    },
    {
      "cell_type": "code",
      "execution_count": null,
      "metadata": {
        "id": "h-XvwkxknLJD"
      },
      "outputs": [],
      "source": [
        "from sklearn.feature_extraction.text import TfidfVectorizer\n",
        "vect=TfidfVectorizer()\n",
        "X= vect.fit_transform(X).toarray()\n",
        "X.shape"
      ]
    },
    {
      "cell_type": "code",
      "execution_count": null,
      "metadata": {
        "id": "3zkHrvjRnVDF"
      },
      "outputs": [],
      "source": [
        "from sklearn.model_selection import train_test_split\n",
        "X_train, X_test, y_train, y_test= train_test_split(X, y, random_state=42)"
      ]
    },
    {
      "cell_type": "code",
      "execution_count": null,
      "metadata": {
        "id": "sypoOiSYpoyr"
      },
      "outputs": [],
      "source": [
        "from sklearn.naive_bayes import GaussianNB #Naive-Bayes "
      ]
    },
    {
      "cell_type": "code",
      "execution_count": null,
      "metadata": {
        "id": "w4TEqXukrDcK"
      },
      "outputs": [],
      "source": [
        "import math\n",
        "\n",
        "math.sqrt(len(y_train))"
      ]
    },
    {
      "cell_type": "code",
      "execution_count": null,
      "metadata": {
        "id": "-PDMh3wpqzAf"
      },
      "outputs": [],
      "source": [
        "# Testing Model\n",
        "\n",
        "from sklearn.metrics import confusion_matrix\n",
        "from sklearn.metrics import f1_score\n",
        "from sklearn.metrics import accuracy_score\n",
        "from sklearn.metrics import classification_report"
      ]
    },
    {
      "cell_type": "code",
      "execution_count": null,
      "metadata": {
        "id": "rzTDI325ny1x"
      },
      "outputs": [],
      "source": [
        "# Define Model\n",
        "\n",
        "nb=GaussianNB() #Naive-Bayes"
      ]
    },
    {
      "cell_type": "code",
      "execution_count": null,
      "metadata": {
        "id": "AQhjqShenyw4"
      },
      "outputs": [],
      "source": [
        "# Fit Model\n",
        "\n",
        "nb.fit(X_train, y_train)"
      ]
    },
    {
      "cell_type": "code",
      "execution_count": null,
      "metadata": {
        "id": "wy8Ag2JxqsAY"
      },
      "outputs": [],
      "source": [
        "# Predict Test Set Result\n",
        "\n",
        "nb_pred = nb.predict(X_test)"
      ]
    },
    {
      "cell_type": "code",
      "execution_count": null,
      "metadata": {
        "id": "qBsUKb_XwPK7"
      },
      "outputs": [],
      "source": [
        "# Evaluate Model - confusion mtrix - Naive Bayes\n",
        "\n",
        "print(\"Confusion Matrix For Naive Bayes :\")\n",
        "cm_NB=confusion_matrix(y_test,nb_pred)\n",
        "print(cm_NB)\n",
        "sns.heatmap(confusion_matrix(y_test,nb_pred),annot=True)\n",
        "print(\"Accuracy of Naive Bayes :\",accuracy_score(y_test,nb_pred))\n",
        "print(\"Classification Report of Naive Bayes :\\n\",classification_report(y_test, nb_pred))"
      ]
    },
    {
      "cell_type": "markdown",
      "metadata": {
        "id": "koUfoS3mwDcr"
      },
      "source": [
        "### Checking Model"
      ]
    },
    {
      "cell_type": "code",
      "execution_count": null,
      "metadata": {
        "id": "wQ-xHzRps8jE"
      },
      "outputs": [],
      "source": [
        "def predict(text):\n",
        "    x = vect.transform([text]).toarray()\n",
        "    lang = nb.predict(x)\n",
        "    lang = le.inverse_transform(lang)\n",
        "    print(\"The langauge is in\",lang[0])"
      ]
    },
    {
      "cell_type": "code",
      "source": [
        "text=input(\"What do you want to convert?\")"
      ],
      "metadata": {
        "id": "wxkEQiIGNsmi"
      },
      "execution_count": null,
      "outputs": []
    },
    {
      "cell_type": "code",
      "execution_count": null,
      "metadata": {
        "id": "mpYVKwzHtvnj"
      },
      "outputs": [],
      "source": [
        "predict(text)"
      ]
    },
    {
      "cell_type": "code",
      "execution_count": null,
      "metadata": {
        "id": "eULKYQiJt2yw"
      },
      "outputs": [],
      "source": [
        "predict(\"शेर एक खूंखार जानवर है जिससे सब डरा करते हैं। \")"
      ]
    },
    {
      "cell_type": "code",
      "execution_count": null,
      "metadata": {
        "id": "ps-8VbxzuV6N"
      },
      "outputs": [],
      "source": [
        "predict(\"En voyant le lion seul, deux animaux pensèrent qu’ils devraient devenir amis avec lui. C’était un âne et un renard. Le renard était très intelligent et ne voulait pas devenir un ennemi du Lion. l’âne était très sympathique et pensait que les trois étaient égaux.\")"
      ]
    },
    {
      "cell_type": "markdown",
      "metadata": {
        "id": "AGn5vOnMz2Kt"
      },
      "source": [
        "# Translator"
      ]
    },
    {
      "cell_type": "code",
      "source": [
        "!pip3 install googletrans==3.1.0a0"
      ],
      "metadata": {
        "id": "biPuxPHLNapA"
      },
      "execution_count": null,
      "outputs": []
    },
    {
      "cell_type": "code",
      "source": [
        "! pip install translate"
      ],
      "metadata": {
        "id": "I9CRQtiQNamy"
      },
      "execution_count": null,
      "outputs": []
    },
    {
      "cell_type": "code",
      "source": [
        "from googletrans import Translator"
      ],
      "metadata": {
        "id": "ldKaAMjaNakK"
      },
      "execution_count": null,
      "outputs": []
    },
    {
      "cell_type": "code",
      "source": [
        "translator=Translator()"
      ],
      "metadata": {
        "id": "TWw3s27LNaho"
      },
      "execution_count": null,
      "outputs": []
    },
    {
      "cell_type": "code",
      "source": [
        "out=translator.translate(text, dest='hi')\n",
        "print(out.text)"
      ],
      "metadata": {
        "id": "uMUz_tO-Noqy"
      },
      "execution_count": null,
      "outputs": []
    },
    {
      "cell_type": "markdown",
      "source": [
        "# TRY IT"
      ],
      "metadata": {
        "id": "UdZo-P3IOW5W"
      }
    },
    {
      "cell_type": "code",
      "source": [
        "lang = {\n",
        "    'af': 'afrikaans',\n",
        "    'sq': 'albanian',\n",
        "    'am': 'amharic',\n",
        "    'ar': 'arabic',\n",
        "    'hy': 'armenian',\n",
        "    'az': 'azerbaijani',\n",
        "    'eu': 'basque',\n",
        "    'be': 'belarusian',\n",
        "    'bn': 'bengali',\n",
        "    'bs': 'bosnian',\n",
        "    'bg': 'bulgarian',\n",
        "    'ca': 'catalan',\n",
        "    'ceb': 'cebuano',\n",
        "    'ny': 'chichewa',\n",
        "    'zh-cn': 'chinese (simplified)',\n",
        "    'zh-tw': 'chinese (traditional)',\n",
        "    'co': 'corsican',\n",
        "    'hr': 'croatian',\n",
        "    'cs': 'czech',\n",
        "    'da': 'danish',\n",
        "    'nl': 'dutch',\n",
        "    'en': 'english',\n",
        "    'eo': 'esperanto',\n",
        "    'et': 'estonian',\n",
        "    'tl': 'filipino',\n",
        "    'fi': 'finnish',\n",
        "    'fr': 'french',\n",
        "    'fy': 'frisian',\n",
        "    'gl': 'galician',\n",
        "    'ka': 'georgian',\n",
        "    'de': 'german',\n",
        "    'el': 'greek',\n",
        "    'gu': 'gujarati',\n",
        "    'ht': 'haitian creole',\n",
        "    'ha': 'hausa',\n",
        "    'haw': 'hawaiian',\n",
        "    'iw': 'hebrew',\n",
        "    'he': 'hebrew',\n",
        "    'hi': 'hindi',\n",
        "    'hmn': 'hmong',\n",
        "    'hu': 'hungarian',\n",
        "    'is': 'icelandic',\n",
        "    'ig': 'igbo',\n",
        "    'id': 'indonesian',\n",
        "    'ga': 'irish',\n",
        "    'it': 'italian',\n",
        "    'ja': 'japanese',\n",
        "    'jw': 'javanese',\n",
        "    'kn': 'kannada',\n",
        "    'kk': 'kazakh',\n",
        "    'km': 'khmer',\n",
        "    'ko': 'korean',\n",
        "    'ku': 'kurdish (kurmanji)',\n",
        "    'ky': 'kyrgyz',\n",
        "    'lo': 'lao',\n",
        "    'la': 'latin',\n",
        "    'lv': 'latvian',\n",
        "    'lt': 'lithuanian',\n",
        "    'lb': 'luxembourgish',\n",
        "    'mk': 'macedonian',\n",
        "    'mg': 'malagasy',\n",
        "    'ms': 'malay',\n",
        "    'ml': 'malayalam',\n",
        "    'mt': 'maltese',\n",
        "    'mi': 'maori',\n",
        "    'mr': 'marathi',\n",
        "    'mn': 'mongolian',\n",
        "    'my': 'myanmar (burmese)',\n",
        "    'ne': 'nepali',\n",
        "    'no': 'norwegian',\n",
        "    'or': 'odia',\n",
        "    'ps': 'pashto',\n",
        "    'fa': 'persian',\n",
        "    'pl': 'polish',\n",
        "    'pt': 'portuguese',\n",
        "    'pa': 'punjabi',\n",
        "    'ro': 'romanian',\n",
        "    'ru': 'russian',\n",
        "    'sm': 'samoan',\n",
        "    'gd': 'scots gaelic',\n",
        "    'sr': 'serbian',\n",
        "    'st': 'sesotho',\n",
        "    'sn': 'shona',\n",
        "    'sd': 'sindhi',\n",
        "    'si': 'sinhala',\n",
        "    'sk': 'slovak',\n",
        "    'sl': 'slovenian',\n",
        "    'so': 'somali',\n",
        "    'es': 'spanish',\n",
        "    'su': 'sundanese',\n",
        "    'sw': 'swahili',\n",
        "    'sv': 'swedish',\n",
        "    'tg': 'tajik',\n",
        "    'ta': 'tamil',\n",
        "    'te': 'telugu',\n",
        "    'th': 'thai',\n",
        "    'tr': 'turkish',\n",
        "    'uk': 'ukrainian',\n",
        "    'ur': 'urdu',\n",
        "    'ug': 'uyghur',\n",
        "    'uz': 'uzbek',\n",
        "    'vi': 'vietnamese',\n",
        "    'cy': 'welsh',\n",
        "    'xh': 'xhosa',\n",
        "    'yi': 'yiddish',\n",
        "    'yo': 'yoruba',\n",
        "    'zu': 'zulu'}\n",
        "\n",
        "text=input(\"What would you like to translate? : \")\n",
        "print(\"In which of the below language you want to translate? \")\n",
        "for key,value in lang.items():\n",
        "\tprint(key, ':', value , end='\\n')\n",
        "l=input(\"Kindly enter abbrevation : \")\n",
        "predict(text)\n",
        "if l in lang:\n",
        "  out=translator.translate(text, dest=l)\n",
        "  print(out.text)\n",
        "else:\n",
        "  print(\"Wrong Input\")"
      ],
      "metadata": {
        "id": "LsyPzZv2izC1"
      },
      "execution_count": null,
      "outputs": []
    }
  ],
  "metadata": {
    "accelerator": "GPU",
    "colab": {
      "private_outputs": true,
      "provenance": []
    },
    "gpuClass": "standard",
    "kernelspec": {
      "display_name": "Python 3",
      "name": "python3"
    },
    "language_info": {
      "name": "python"
    }
  },
  "nbformat": 4,
  "nbformat_minor": 0
}